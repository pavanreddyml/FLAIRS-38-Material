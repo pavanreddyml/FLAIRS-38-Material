{
  "cells": [
    {
      "cell_type": "markdown",
      "metadata": {
        "id": "view-in-github",
        "colab_type": "text"
      },
      "source": [
        "<a href=\"https://colab.research.google.com/github/pavanreddyml/FLAIRS-38-Material/blob/main/noetbooks/01%20-%20Attacks.ipynb\" target=\"_parent\"><img src=\"https://colab.research.google.com/assets/colab-badge.svg\" alt=\"Open In Colab\"/></a>"
      ]
    },
    {
      "cell_type": "markdown",
      "id": "a333f35a",
      "metadata": {
        "id": "a333f35a"
      },
      "source": [
        "# Hands On Adversarial Attacks"
      ]
    },
    {
      "cell_type": "markdown",
      "id": "756b1c64",
      "metadata": {
        "id": "756b1c64"
      },
      "source": [
        "# Setup"
      ]
    },
    {
      "cell_type": "code",
      "source": [
        "!pip install adversarial-lab"
      ],
      "metadata": {
        "id": "OdzuiprC_VMN"
      },
      "id": "OdzuiprC_VMN",
      "execution_count": null,
      "outputs": []
    },
    {
      "cell_type": "code",
      "source": [
        "!git clone https://github.com/pavanreddyml/FLAIRS-38-Material.git"
      ],
      "metadata": {
        "id": "aT9QI9rj_Xub"
      },
      "id": "aT9QI9rj_Xub",
      "execution_count": null,
      "outputs": []
    },
    {
      "cell_type": "code",
      "execution_count": null,
      "id": "4b4796b2",
      "metadata": {
        "id": "4b4796b2"
      },
      "outputs": [],
      "source": [
        "from adversarial_lab.core.optimizers import PGD\n",
        "from adversarial_lab.core.losses import CategoricalCrossEntropy\n",
        "from adversarial_lab.attacker.whitebox import WhiteBoxMisclassification\n",
        "from adversarial_lab.core.noise_generators import AdditiveNoiseGenerator\n",
        "from adversarial_lab.core.preprocessing import PreprocessingFromFunction\n",
        "from adversarial_lab.core.constraints import POClip, PONoisedSampleBounding\n",
        "from adversarial_lab.callbacks import EarlyStopping\n",
        "from adversarial_lab.arsenal.whitebox import *\n",
        "\n",
        "from adversarial_lab.utils import Plotting\n",
        "\n",
        "import os\n",
        "import numpy as np\n",
        "from tqdm import tqdm\n",
        "from PIL import Image\n",
        "import matplotlib.pyplot as plt\n",
        "\n",
        "import tensorflow as tf\n",
        "from tensorflow.keras.preprocessing import image"
      ]
    },
    {
      "cell_type": "code",
      "execution_count": null,
      "id": "1bf2ca89",
      "metadata": {
        "id": "1bf2ca89"
      },
      "outputs": [],
      "source": [
        "MODEL = \"InceptionV3\"     # Supported models: InceptionV3, ResNet50, MobileNetV2, Digits\n",
        "IMAGES_DIR = os.path.join(\"FLAIRS-38-Material\", \"data\", \"animals\")     # Directory containing the images\n",
        "MODEL_DIR = os.path.join(\"FLAIRS-38-Material\", \"models\")               # Directory containing the model"
      ]
    },
    {
      "cell_type": "code",
      "execution_count": null,
      "id": "7da6eeec",
      "metadata": {
        "id": "7da6eeec"
      },
      "outputs": [],
      "source": [
        "if MODEL == \"InceptionV3\":\n",
        "    from tensorflow.keras.applications import InceptionV3\n",
        "    from tensorflow.keras.applications.inception_v3 import preprocess_input, decode_predictions\n",
        "    model = InceptionV3(weights='imagenet')\n",
        "    input_shape = (299, 299, 3)\n",
        "elif MODEL == \"ResNet50\":\n",
        "    from tensorflow.keras.applications import ResNet50\n",
        "    from tensorflow.keras.applications.resnet50 import preprocess_input, decode_predictions\n",
        "    model = ResNet50(weights='imagenet')\n",
        "    input_shape = (224, 224, 3)\n",
        "elif MODEL == \"MobileNetV2\":\n",
        "    from tensorflow.keras.applications import MobileNetV2\n",
        "    from tensorflow.keras.applications.mobilenet_v2 import preprocess_input, decode_predictions\n",
        "    model = MobileNetV2(weights='imagenet')\n",
        "    input_shape = (224, 224, 3)\n",
        "else:\n",
        "  raise ValueError(f\"Unsupported Model: {MODEL}\")"
      ]
    },
    {
      "cell_type": "code",
      "execution_count": null,
      "id": "0207eb3c",
      "metadata": {
        "id": "0207eb3c"
      },
      "outputs": [],
      "source": [
        "def preprocess(sample, *args, **kwargs):\n",
        "    input_sample = tf.cast(sample, dtype=tf.float32)\n",
        "    if len(input_sample.shape) == 2:\n",
        "        input_sample = tf.expand_dims(input_sample, axis=-1)\n",
        "        input_sample = tf.image.grayscale_to_rgb(input_sample)\n",
        "\n",
        "    elif len(input_sample.shape) == 3 and input_sample.shape[-1] == 1:\n",
        "        input_sample = tf.image.grayscale_to_rgb(input_sample)\n",
        "\n",
        "    input_tensor = tf.convert_to_tensor(input_sample, dtype=tf.float32)\n",
        "    resized_image = tf.image.resize(input_tensor, input_shape[:2])\n",
        "    batch_image = tf.expand_dims(resized_image, axis=0)\n",
        "    return preprocess_input(batch_image)"
      ]
    },
    {
      "cell_type": "code",
      "execution_count": null,
      "id": "71d07edc",
      "metadata": {
        "id": "71d07edc"
      },
      "outputs": [],
      "source": [
        "def get_image_array(image_path):\n",
        "    image = Image.open(image_path)\n",
        "    image_array = np.array(image)\n",
        "    return image_array"
      ]
    },
    {
      "cell_type": "markdown",
      "id": "b3d97f03",
      "metadata": {
        "id": "b3d97f03"
      },
      "source": [
        "# Whitebox Attacks"
      ]
    },
    {
      "cell_type": "markdown",
      "id": "781d5403",
      "metadata": {
        "id": "781d5403"
      },
      "source": [
        "## Fast Sign Gradient Method (FSGM)"
      ]
    },
    {
      "cell_type": "code",
      "execution_count": null,
      "id": "f76fd9d4",
      "metadata": {
        "id": "f76fd9d4"
      },
      "outputs": [],
      "source": [
        "IMAGE = \"panda.jpg\"\n",
        "EPSILON = 2\n",
        "EPSILONS = [1, 2, 5, 10, 20, 50, 100]\n",
        "TARGET_CLASS = 924\n",
        "ON_ORIGINAL = True\n",
        "VERBOSE = 1"
      ]
    },
    {
      "cell_type": "code",
      "execution_count": null,
      "id": "c9ffcf73",
      "metadata": {
        "id": "c9ffcf73"
      },
      "outputs": [],
      "source": [
        "image_path = os.path.join(IMAGES_DIR, IMAGE)\n",
        "image_array = get_image_array(image_path)"
      ]
    },
    {
      "cell_type": "code",
      "execution_count": null,
      "id": "c1b5207f",
      "metadata": {
        "id": "c1b5207f"
      },
      "outputs": [],
      "source": [
        "predictions = model.predict(preprocess(image_array), verbose=0)\n",
        "print(\"Predicted class:\", decode_predictions(predictions, top=1)[0][0][1])\n",
        "print(\"Predicted class index:\", np.argmax(predictions, axis=1)[0])\n",
        "print(\"Predicted class probability:\", np.max(predictions, axis=1)[0])"
      ]
    },
    {
      "cell_type": "code",
      "execution_count": null,
      "id": "9529fc63",
      "metadata": {
        "id": "9529fc63"
      },
      "outputs": [],
      "source": [
        "attacker = FastSignGradientMethodAttack(\n",
        "    model=model,\n",
        "    preprocessing_fn=PreprocessingFromFunction.create(preprocess),\n",
        "    epsilon=float(EPSILON),\n",
        "    binary=False,\n",
        "    verbose=VERBOSE,\n",
        ")\n",
        "\n",
        "noise, noise_meta = attacker.attack(\n",
        "    sample=image_array,\n",
        "    target_class=TARGET_CLASS,\n",
        "    on_original=ON_ORIGINAL, # This determines if the attack is performed on the original image or on the preprocessed one\n",
        ")\n",
        "\n",
        "Plotting.plot_images_and_noise(image_array,\n",
        "                               noise,\n",
        "                               config={\n",
        "                                   \"title\": f\"Fast Sign Gradient Method (Epsilon: {EPSILON})\",\n",
        "                               })"
      ]
    },
    {
      "cell_type": "code",
      "execution_count": null,
      "id": "53d4cfd9",
      "metadata": {
        "id": "53d4cfd9"
      },
      "outputs": [],
      "source": [
        "print(\n",
        "    f\"Epsilon: {EPSILON}\\n\"\n",
        "    f\"Original class: {np.argmax(model.predict(preprocess(image_array), verbose=0), axis=1)[0]}\\n\"\n",
        "    f\"Target class: {TARGET_CLASS}\\n\"\n",
        "    f\"Adversarial class: {np.argmax(model.predict(preprocess(image_array + noise), verbose=0), axis=1)[0]}\\n\",\n",
        "    f\"Noise min: {np.min(noise)}\\n\"\n",
        "    f\"Noise max: {np.max(noise)}\\n\"\n",
        ")"
      ]
    },
    {
      "cell_type": "code",
      "execution_count": null,
      "id": "9022f9b9",
      "metadata": {
        "id": "9022f9b9"
      },
      "outputs": [],
      "source": [
        "noises = []\n",
        "predicted_classes = []\n",
        "stats = []\n",
        "\n",
        "for eps in EPSILONS:\n",
        "    attacker = FastSignGradientMethodAttack(\n",
        "        model=model,\n",
        "        preprocessing_fn=PreprocessingFromFunction.create(preprocess),\n",
        "        epsilon=float(eps),\n",
        "        binary=False,\n",
        "        verbose=0,\n",
        "    )\n",
        "\n",
        "    noise, noise_meta = attacker.attack(\n",
        "        sample=image_array,\n",
        "        target_class=TARGET_CLASS,\n",
        "        on_original=ON_ORIGINAL,\n",
        "    )\n",
        "\n",
        "    stats.append(\n",
        "    f\"Epsilon: {eps}\\n\"\n",
        "    f\"Original class: {np.argmax(model.predict(preprocess(image_array), verbose=0), axis=1)[0]}\\n\"\n",
        "    f\"Target class: {TARGET_CLASS}\\n\"\n",
        "    f\"Adversarial class: {np.argmax(model.predict(preprocess(image_array + noise), verbose=0), axis=1)[0]}\\n\"\n",
        "    f\"Noise min: {np.min(noise)}\\n\"\n",
        "    f\"Noise max: {np.max(noise)}\\n\"\n",
        "    f\"Noise mean: {np.mean(noise)}\\n\"\n",
        "    )\n",
        "\n",
        "    noises.append(noise)\n",
        "    predicted_classes.append(np.argmax(model.predict(preprocess(image_array + noise), verbose=0), axis=1)[0])\n",
        "\n",
        "for n, pc, s, eps in zip(noises, predicted_classes, stats, EPSILONS):\n",
        "    print(s)\n",
        "    Plotting.plot_images_and_noise(image_array,\n",
        "                                n,\n",
        "                                config={\n",
        "                                    \"title\": f\"Fast Sign Gradient Method (Epsilon: {eps}, predicted class: {pc})\",\n",
        "                                })"
      ]
    },
    {
      "cell_type": "markdown",
      "id": "72763ce4",
      "metadata": {
        "id": "72763ce4"
      },
      "source": [
        "## BIM And PGD"
      ]
    },
    {
      "cell_type": "code",
      "execution_count": null,
      "id": "cd33be31",
      "metadata": {
        "id": "cd33be31"
      },
      "outputs": [],
      "source": [
        "IMAGE = \"jellyfish.jpg\"\n",
        "EPSILON = 2\n",
        "EPSILONS = [1, 2, 5, 10, 20, 50, 100]\n",
        "LEARNING_RATE = 1\n",
        "TARGET_CLASS = 924\n",
        "TARGET_CLASS_CONFIDENCE = 0.5\n",
        "ON_ORIGINAL = True\n",
        "VERBOSE = 3\n",
        "EPOCHS = 20"
      ]
    },
    {
      "cell_type": "code",
      "execution_count": null,
      "id": "595b5788",
      "metadata": {
        "id": "595b5788"
      },
      "outputs": [],
      "source": [
        "image_path = os.path.join(IMAGES_DIR, IMAGE)\n",
        "image_array = get_image_array(image_path)"
      ]
    },
    {
      "cell_type": "code",
      "execution_count": null,
      "id": "5cd32f70",
      "metadata": {
        "id": "5cd32f70"
      },
      "outputs": [],
      "source": [
        "predictions = model.predict(preprocess(image_array), verbose=0)\n",
        "print(\"Predicted class:\", decode_predictions(predictions, top=1)[0][0][1])\n",
        "print(\"Predicted class index:\", np.argmax(predictions, axis=1)[0])\n",
        "print(\"Predicted class probability:\", np.max(predictions, axis=1)[0])"
      ]
    },
    {
      "cell_type": "code",
      "execution_count": null,
      "id": "f1219a8a",
      "metadata": {
        "id": "f1219a8a"
      },
      "outputs": [],
      "source": [
        "attacker = ProjectedGradientDescentAttack(\n",
        "    model=model,\n",
        "    preprocessing_fn=PreprocessingFromFunction.create(preprocess),\n",
        "    learning_rate=float(LEARNING_RATE),\n",
        "    epsilon=float(EPSILON),\n",
        "    binary=False,\n",
        "    verbose=VERBOSE,\n",
        "    callbacks=[EarlyStopping(trigger=\"misclassification\", confidence=0.5)],\n",
        ")\n",
        "\n",
        "noise, noise_meta = attacker.attack(\n",
        "    sample=image_array,\n",
        "    target_class=TARGET_CLASS,\n",
        "    on_original=ON_ORIGINAL,\n",
        "    epochs=EPOCHS\n",
        ")\n",
        "\n",
        "Plotting.plot_images_and_noise(image_array,\n",
        "                               noise,\n",
        "                               config={\n",
        "                                   \"title\": f\"BIM (Epsilon: {EPSILON}, Learning Rate: {LEARNING_RATE})\",\n",
        "                               })"
      ]
    },
    {
      "cell_type": "code",
      "execution_count": null,
      "id": "7a7b62a6",
      "metadata": {
        "id": "7a7b62a6"
      },
      "outputs": [],
      "source": [
        "print(\n",
        "    f\"Epsilon: {EPSILON}\\n\"\n",
        "    f\"Learning Rate: {LEARNING_RATE}\\n\"\n",
        "    f\"Original class: {np.argmax(model.predict(preprocess(image_array), verbose=0), axis=1)[0]}\\n\"\n",
        "    f\"Target class: {TARGET_CLASS}\\n\"\n",
        "    f\"Adversarial class: {np.argmax(model.predict(preprocess(image_array + noise), verbose=0), axis=1)[0]}\\n\"\n",
        "    f\"Adversarial class confidence: {np.max(model.predict(preprocess(image_array + noise), verbose=0), axis=1)[0]}\\n\"\n",
        "    f\"Noise min: {np.min(noise)}\\n\"\n",
        "    f\"Noise max: {np.max(noise)}\\n\"\n",
        ")"
      ]
    },
    {
      "cell_type": "code",
      "execution_count": null,
      "id": "793849cd",
      "metadata": {
        "id": "793849cd"
      },
      "outputs": [],
      "source": [
        "noises = []\n",
        "predicted_classes = []\n",
        "stats = []\n",
        "\n",
        "for eps in EPSILONS:\n",
        "    attacker = ProjectedGradientDescentAttack(\n",
        "    model=model,\n",
        "    preprocessing_fn=PreprocessingFromFunction.create(preprocess),\n",
        "    learning_rate=float(LEARNING_RATE),\n",
        "    epsilon=float(eps),\n",
        "    binary=False,\n",
        "    verbose=VERBOSE,\n",
        "    callbacks=[EarlyStopping(trigger=\"misclassification\", confidence=TARGET_CLASS_CONFIDENCE)],\n",
        "    )\n",
        "\n",
        "    noise, noise_meta = attacker.attack(\n",
        "        sample=image_array,\n",
        "        target_class=TARGET_CLASS,\n",
        "        on_original=ON_ORIGINAL,\n",
        "        epochs=EPOCHS\n",
        "    )\n",
        "\n",
        "    stats.append(\n",
        "    f\"Epsilon: {EPSILON}\\n\"\n",
        "    f\"Learning Rate: {LEARNING_RATE}\\n\"\n",
        "    f\"Original class: {np.argmax(model.predict(preprocess(image_array), verbose=0), axis=1)[0]}\\n\"\n",
        "    f\"Target class: {TARGET_CLASS}\\n\"\n",
        "    f\"Adversarial class: {np.argmax(model.predict(preprocess(image_array + noise), verbose=0), axis=1)[0]}\\n\"\n",
        "    f\"Adversarial class confidence: {np.max(model.predict(preprocess(image_array + noise), verbose=0), axis=1)[0]}\\n\"\n",
        "    f\"Noise min: {np.min(noise)}\\n\"\n",
        "    f\"Noise max: {np.max(noise)}\\n\"\n",
        "    )\n",
        "\n",
        "    noises.append(noise)\n",
        "    predicted_classes.append(np.argmax(model.predict(preprocess(image_array + noise), verbose=0), axis=1)[0])\n",
        "\n",
        "for n, pc, s, eps in zip(noises, predicted_classes, stats, EPSILONS):\n",
        "    print(s)\n",
        "    Plotting.plot_images_and_noise(image_array,\n",
        "                                n,\n",
        "                                config={\n",
        "                                    \"title\": f\"Basic Iterative Method (Epsilon: {eps}, predicted class: {pc})\",\n",
        "                                })"
      ]
    },
    {
      "cell_type": "markdown",
      "id": "389fd8d0",
      "metadata": {
        "id": "389fd8d0"
      },
      "source": [
        "## Carlini Wagner Attack (C&W)"
      ]
    },
    {
      "cell_type": "code",
      "execution_count": null,
      "id": "d88352e9",
      "metadata": {
        "id": "d88352e9"
      },
      "outputs": [],
      "source": [
        "IMAGE = \"panda.jpg\"\n",
        "C=50,\n",
        "C_VALS = [1, 2, 5, 10, 20, 50, 100, 200]\n",
        "KAPPA=0.5,\n",
        "LEARNING_RATE = 1\n",
        "TARGET_CLASS = 924\n",
        "TARGET_CLASS_CONFIDENCE = 0.5\n",
        "ON_ORIGINAL = True\n",
        "VERBOSE = 3\n",
        "EPOCHS = 20"
      ]
    },
    {
      "cell_type": "code",
      "execution_count": null,
      "id": "10e47627",
      "metadata": {
        "id": "10e47627"
      },
      "outputs": [],
      "source": [
        "image_path = os.path.join(IMAGES_DIR, IMAGE)\n",
        "image_array = get_image_array(image_path)"
      ]
    },
    {
      "cell_type": "code",
      "execution_count": null,
      "id": "17747359",
      "metadata": {
        "id": "17747359"
      },
      "outputs": [],
      "source": [
        "predictions = model.predict(preprocess(image_array), verbose=0)\n",
        "print(\"Predicted class:\", decode_predictions(predictions, top=1)[0][0][1])\n",
        "print(\"Predicted class index:\", np.argmax(predictions, axis=1)[0])\n",
        "print(\"Predicted class probability:\", np.max(predictions, axis=1)[0])"
      ]
    },
    {
      "cell_type": "code",
      "execution_count": null,
      "id": "c19046f9",
      "metadata": {
        "id": "c19046f9"
      },
      "outputs": [],
      "source": [
        "attacker = CarliniWagnerAttack(\n",
        "    model=model,\n",
        "    preprocessing_fn=PreprocessingFromFunction.create(preprocess),\n",
        "    learning_rate=float(LEARNING_RATE),\n",
        "    C=C,\n",
        "    kappa=KAPPA,\n",
        "    binary=False,\n",
        "    verbose=VERBOSE,\n",
        "    callbacks=[EarlyStopping(trigger=\"misclassification\", confidence=TARGET_CLASS_CONFIDENCE)],\n",
        ")\n",
        "\n",
        "noise, noise_meta = attacker.attack(\n",
        "    sample=image_array,\n",
        "    target_class=TARGET_CLASS,\n",
        "    on_original=ON_ORIGINAL, # This determines if the attack is performed on the original image or on the preprocessed one\n",
        "    epochs=EPOCHS\n",
        ")\n",
        "\n",
        "Plotting.plot_images_and_noise(image_array,\n",
        "                               noise,\n",
        "                               config={\n",
        "                                   \"title\": f\"C&W Attack (C: {C}, Kappa: {KAPPA})\",\n",
        "                               })"
      ]
    },
    {
      "cell_type": "code",
      "execution_count": null,
      "id": "43d37b21",
      "metadata": {
        "id": "43d37b21"
      },
      "outputs": [],
      "source": [
        "print(\n",
        "    f\"C: {C}\\n\"\n",
        "    f\"KAPPA: {KAPPA}\\n\"\n",
        "    f\"Original class: {np.argmax(model.predict(preprocess(image_array), verbose=0), axis=1)[0]}\\n\"\n",
        "    f\"Target class: {TARGET_CLASS}\\n\"\n",
        "    f\"Adversarial class: {np.argmax(model.predict(preprocess(image_array + noise), verbose=0), axis=1)[0]}\\n\"\n",
        "    f\"Adversarial class confidence: {np.max(model.predict(preprocess(image_array + noise), verbose=0), axis=1)[0]}\\n\"\n",
        "    f\"Noise min: {np.min(noise)}\\n\"\n",
        "    f\"Noise max: {np.max(noise)}\\n\"\n",
        ")"
      ]
    },
    {
      "cell_type": "code",
      "execution_count": null,
      "id": "fc4188fd",
      "metadata": {
        "id": "fc4188fd"
      },
      "outputs": [],
      "source": [
        "noises = []\n",
        "predicted_classes = []\n",
        "stats = []\n",
        "\n",
        "for c_val in C_VALS:\n",
        "    attacker = CarliniWagnerAttack(\n",
        "    model=model,\n",
        "    preprocessing_fn=PreprocessingFromFunction.create(preprocess),\n",
        "    learning_rate=float(LEARNING_RATE),\n",
        "    C=c_val,\n",
        "    kappa=KAPPA,\n",
        "    binary=False,\n",
        "    verbose=VERBOSE,\n",
        "    callbacks=[EarlyStopping(trigger=\"misclassification\", confidence=0.5)],\n",
        "    )\n",
        "\n",
        "    noise, noise_meta = attacker.attack(\n",
        "        sample=image_array,\n",
        "        target_class=TARGET_CLASS,\n",
        "        on_original=ON_ORIGINAL, # This determines if the attack is performed on the original image or on the preprocessed one\n",
        "        epochs=20\n",
        "    )\n",
        "\n",
        "    stats.append(\n",
        "    f\"C: {c_val}\\n\"\n",
        "    \"Kappa: {KAPPA}\\n\"\n",
        "    f\"Original class: {np.argmax(model.predict(preprocess(image_array), verbose=0), axis=1)[0]}\\n\"\n",
        "    f\"Target class: {TARGET_CLASS}\\n\"\n",
        "    f\"Adversarial class: {np.argmax(model.predict(preprocess(image_array + noise), verbose=0), axis=1)[0]}\\n\"\n",
        "    f\"Adversarial class confidence: {np.max(model.predict(preprocess(image_array + noise), verbose=0), axis=1)[0]}\\n\"\n",
        "    f\"Noise min: {np.min(noise)}\\n\"\n",
        "    f\"Noise max: {np.max(noise)}\\n\"\n",
        "    )\n",
        "\n",
        "    noises.append(noise)\n",
        "    predicted_classes.append(np.argmax(model.predict(preprocess(image_array + noise), verbose=0), axis=1)[0])\n",
        "\n",
        "for n, pc, s, c_val in zip(noises, predicted_classes, stats, C_VALS):\n",
        "    print(s)\n",
        "    Plotting.plot_images_and_noise(image_array,\n",
        "                                n,\n",
        "                                config={\n",
        "                                    \"title\": f\"C&W Attack (C: {c_val}, Kappa: {KAPPA}, predicted class: {pc})\",\n",
        "                                })"
      ]
    },
    {
      "cell_type": "markdown",
      "id": "543ffc10",
      "metadata": {
        "id": "543ffc10"
      },
      "source": [
        "## Deepfool"
      ]
    },
    {
      "cell_type": "code",
      "execution_count": null,
      "id": "c41e31f0",
      "metadata": {
        "id": "c41e31f0"
      },
      "outputs": [],
      "source": [
        "IMAGE = \"panda.jpg\"\n",
        "OVERSHOOT = 0.1\n",
        "OVERSHOOT_VALS = [0.1, 0.25, 0.5]\n",
        "TARGET_CLASS = 924\n",
        "TARGET_CLASS_CONFIDENCE = 0.3\n",
        "ON_ORIGINAL = False                     # Deep Fool does not support on_original=True\n",
        "VERBOSE = 3\n",
        "EPOCHS = 20\n",
        "EFFICIENT_MODE = 20"
      ]
    },
    {
      "cell_type": "code",
      "execution_count": null,
      "id": "416e09d6",
      "metadata": {
        "id": "416e09d6"
      },
      "outputs": [],
      "source": [
        "image_path = os.path.join(IMAGES_DIR, IMAGE)\n",
        "image_array = get_image_array(image_path)"
      ]
    },
    {
      "cell_type": "code",
      "execution_count": null,
      "id": "93e6c2ad",
      "metadata": {
        "id": "93e6c2ad"
      },
      "outputs": [],
      "source": [
        "predictions = model.predict(preprocess(image_array), verbose=0)\n",
        "print(\"Predicted class:\", decode_predictions(predictions, top=1)[0][0][1])\n",
        "print(\"Predicted class index:\", np.argmax(predictions, axis=1)[0])\n",
        "print(\"Predicted class probability:\", np.max(predictions, axis=1)[0])"
      ]
    },
    {
      "cell_type": "code",
      "execution_count": null,
      "id": "e34cbc33",
      "metadata": {
        "id": "e34cbc33"
      },
      "outputs": [],
      "source": [
        "early_stopping = EarlyStopping(trigger=\"misclassification\", confidence=0.2)\n",
        "preprocessing_fn = PreprocessingFromFunction.create(preprocess)\n",
        "\n",
        "attacker = DeepFoolAttack(\n",
        "    model=model,\n",
        "    preprocessing_fn=preprocessing_fn,\n",
        "    epsilon=EPSILON,\n",
        "    overshoot=OVERSHOOT,\n",
        "    callbacks=[early_stopping],\n",
        "    efficient_mode=EFFICIENT_MODE,\n",
        ")\n",
        "\n",
        "noise, noise_meta = attacker.attack(\n",
        "    sample=image_array,\n",
        "    target_class=924,\n",
        "    on_original=ON_ORIGINAL,\n",
        "    epochs=EPOCHS,\n",
        ")\n",
        "\n",
        "Plotting.plot_images_and_noise(preprocessing_fn.preprocess(image_array).numpy(),\n",
        "                               noise,\n",
        "                               config={\n",
        "                                   \"title\": f\"Deep Fool (Overshoot: {OVERSHOOT})\",\n",
        "                               })"
      ]
    },
    {
      "cell_type": "code",
      "execution_count": null,
      "id": "d4e564b0",
      "metadata": {
        "id": "d4e564b0"
      },
      "outputs": [],
      "source": [
        "print(\n",
        "    f\"Overshoot: {OVERSHOOT}\\n\"\n",
        "    f\"Original class: {np.argmax(model.predict(preprocess(image_array), verbose=0), axis=1)[0]}\\n\"\n",
        "    f\"Target class: {TARGET_CLASS}\\n\"\n",
        "    f\"Adversarial class: {np.argmax(model.predict(preprocess(image_array) + noise, verbose=0), axis=1)[0]}\\n\"\n",
        "    f\"Adversarial class confidence: {np.max(model.predict(preprocess(image_array) + noise, verbose=0), axis=1)[0]}\\n\"\n",
        "    f\"Noise min: {np.min(noise)}\\n\"\n",
        "    f\"Noise max: {np.max(noise)}\\n\"\n",
        ")"
      ]
    },
    {
      "cell_type": "code",
      "execution_count": null,
      "id": "0f078467",
      "metadata": {
        "id": "0f078467"
      },
      "outputs": [],
      "source": [
        "noises = []\n",
        "predicted_classes = []\n",
        "stats = []\n",
        "\n",
        "for o_val in OVERSHOOT_VALS:\n",
        "    early_stopping = EarlyStopping(trigger=\"misclassification\", confidence=0.2)\n",
        "    preprocessing_fn = PreprocessingFromFunction.create(preprocess)\n",
        "\n",
        "    attacker = DeepFoolAttack(\n",
        "        model=model,\n",
        "        preprocessing_fn=preprocessing_fn,\n",
        "        epsilon=EPSILON,\n",
        "        overshoot=OVERSHOOT,\n",
        "        callbacks=[early_stopping],\n",
        "        efficient_mode=EFFICIENT_MODE,\n",
        "    )\n",
        "\n",
        "    noise, noise_meta = attacker.attack(\n",
        "        sample=image_array,\n",
        "        target_class=924,\n",
        "        on_original=ON_ORIGINAL,\n",
        "        epochs=EPOCHS\n",
        "    )\n",
        "\n",
        "    stats.append(\n",
        "    f\"Overshoot: {o_val}\\n\"\n",
        "    f\"Original class: {np.argmax(model.predict(preprocess(image_array), verbose=0), axis=1)[0]}\\n\"\n",
        "    f\"Target class: {TARGET_CLASS}\\n\"\n",
        "    f\"Adversarial class: {np.argmax(model.predict(preprocess(image_array) + noise, verbose=0), axis=1)[0]}\\n\"\n",
        "    f\"Adversarial class confidence: {np.max(model.predict(preprocess(image_array) + noise, verbose=0), axis=1)[0]}\\n\"\n",
        "    f\"Noise min: {np.min(noise)}\\n\"\n",
        "    f\"Noise max: {np.max(noise)}\\n\"\n",
        "    )\n",
        "\n",
        "    noises.append(noise)\n",
        "    predicted_classes.append(np.argmax(model.predict(preprocess(image_array) + noise, verbose=0), axis=1)[0])\n",
        "\n",
        "for n, pc, s, o_val in zip(noises, predicted_classes, stats, OVERSHOOT_VALS):\n",
        "    print(s)\n",
        "    Plotting.plot_images_and_noise(preprocessing_fn.preprocess(image_array).numpy(),\n",
        "                                n,\n",
        "                                config={\n",
        "                                    \"title\": f\"Deep Fool (Overshoot: {o_val}, predicted class: {pc})\",\n",
        "                                })"
      ]
    },
    {
      "cell_type": "markdown",
      "id": "6f4264d1",
      "metadata": {
        "id": "6f4264d1"
      },
      "source": [
        "## Smooth Fool"
      ]
    },
    {
      "cell_type": "code",
      "execution_count": null,
      "id": "1c643f31",
      "metadata": {
        "id": "1c643f31"
      },
      "outputs": [],
      "source": [
        "IMAGE = \"panda.jpg\"\n",
        "OVERSHOOT = 0.1\n",
        "SIGMA = 0.5\n",
        "SIGMA_VALS = [0.1, 0.25, 0.5, 0.8]\n",
        "KERNEL_SIZE = 3\n",
        "KERNEL_SIZE_VALS = [3, 5, 7, 9, 11]\n",
        "TARGET_CLASS = 924\n",
        "TARGET_CLASS_CONFIDENCE = 0.3\n",
        "ON_ORIGINAL = False                     # Smooth Fool does not support on_original=True\n",
        "VERBOSE = 3\n",
        "EPOCHS = 20\n",
        "EFFICIENT_MODE = 20"
      ]
    },
    {
      "cell_type": "code",
      "execution_count": null,
      "id": "0b06c274",
      "metadata": {
        "id": "0b06c274"
      },
      "outputs": [],
      "source": [
        "image_path = os.path.join(IMAGES_DIR, IMAGE)\n",
        "image_array = get_image_array(image_path)"
      ]
    },
    {
      "cell_type": "code",
      "execution_count": null,
      "id": "451d45dd",
      "metadata": {
        "id": "451d45dd"
      },
      "outputs": [],
      "source": [
        "predictions = model.predict(preprocess(image_array), verbose=0)\n",
        "print(\"Predicted class:\", decode_predictions(predictions, top=1)[0][0][1])\n",
        "print(\"Predicted class index:\", np.argmax(predictions, axis=1)[0])\n",
        "print(\"Predicted class probability:\", np.max(predictions, axis=1)[0])"
      ]
    },
    {
      "cell_type": "code",
      "execution_count": null,
      "id": "4f1fabd8",
      "metadata": {
        "id": "4f1fabd8"
      },
      "outputs": [],
      "source": [
        "early_stopping = EarlyStopping(trigger=\"misclassification\", confidence=0.2)\n",
        "preprocessing_fn = PreprocessingFromFunction.create(preprocess)\n",
        "\n",
        "attacker = SmoothFoolAttack(\n",
        "    model=model,\n",
        "    preprocessing_fn=preprocessing_fn,\n",
        "    epsilon=EPSILON,\n",
        "    overshoot=OVERSHOOT,\n",
        "    sigma=SIGMA,\n",
        "    kernel_size=KERNEL_SIZE,\n",
        "    callbacks=[early_stopping],\n",
        "    efficient_mode=EFFICIENT_MODE,\n",
        ")\n",
        "\n",
        "noise, noise_meta = attacker.attack(\n",
        "    sample=image_array,\n",
        "    target_class=924,\n",
        "    epochs=EPOCHS,\n",
        ")\n",
        "\n",
        "Plotting.plot_images_and_noise(preprocessing_fn.preprocess(image_array).numpy(), noise)"
      ]
    },
    {
      "cell_type": "code",
      "execution_count": null,
      "id": "fab79a5f",
      "metadata": {
        "id": "fab79a5f"
      },
      "outputs": [],
      "source": [
        "print(\n",
        "    f\"Overshoot: {OVERSHOOT}\\n\"\n",
        "    f\"Sigma: {SIGMA}\\n\"\n",
        "    f\"Kernel size: {KERNEL_SIZE}\\n\"\n",
        "    f\"Original class: {np.argmax(model.predict(preprocess(image_array), verbose=0), axis=1)[0]}\\n\"\n",
        "    f\"Target class: {TARGET_CLASS}\\n\"\n",
        "    f\"Adversarial class: {np.argmax(model.predict(preprocess(image_array) + noise, verbose=0), axis=1)[0]}\\n\"\n",
        "    f\"Adversarial class confidence: {np.max(model.predict(preprocess(image_array) + noise, verbose=0), axis=1)[0]}\\n\"\n",
        "    f\"Noise min: {np.min(noise)}\\n\"\n",
        "    f\"Noise max: {np.max(noise)}\\n\"\n",
        ")"
      ]
    },
    {
      "cell_type": "code",
      "execution_count": null,
      "id": "4e24a84d",
      "metadata": {
        "id": "4e24a84d"
      },
      "outputs": [],
      "source": [
        "noises = []\n",
        "predicted_classes = []\n",
        "stats = []\n",
        "\n",
        "for s_val in SIGMA_VALS:\n",
        "    early_stopping = EarlyStopping(trigger=\"misclassification\", confidence=0.2)\n",
        "    preprocessing_fn = PreprocessingFromFunction.create(preprocess)\n",
        "\n",
        "    attacker = SmoothFoolAttack(\n",
        "        model=model,\n",
        "        preprocessing_fn=preprocessing_fn,\n",
        "        epsilon=EPSILON,\n",
        "        overshoot=OVERSHOOT,\n",
        "        sigma=s_val,\n",
        "        kernel_size=KERNEL_SIZE,\n",
        "        callbacks=[early_stopping],\n",
        "        efficient_mode=EFFICIENT_MODE,\n",
        "    )\n",
        "\n",
        "    noise, noise_meta = attacker.attack(\n",
        "        sample=image_array,\n",
        "        target_class=924,\n",
        "        epochs=EPOCHS,\n",
        "    )\n",
        "\n",
        "    stats.append(\n",
        "    f\"Overshoot: {OVERSHOOT}\\n\"\n",
        "    f\"Sigma: {SIGMA}\\n\"\n",
        "    f\"Kernel size: {KERNEL_SIZE}\\n\"\n",
        "    f\"Original class: {np.argmax(model.predict(preprocess(image_array), verbose=0), axis=1)[0]}\\n\"\n",
        "    f\"Target class: {TARGET_CLASS}\\n\"\n",
        "    f\"Adversarial class: {np.argmax(model.predict(preprocess(image_array) + noise, verbose=0), axis=1)[0]}\\n\"\n",
        "    f\"Adversarial class confidence: {np.max(model.predict(preprocess(image_array) + noise, verbose=0), axis=1)[0]}\\n\"\n",
        "    f\"Noise min: {np.min(noise)}\\n\"\n",
        "    f\"Noise max: {np.max(noise)}\\n\"\n",
        "    )\n",
        "\n",
        "    noises.append(noise)\n",
        "    predicted_classes.append(np.argmax(model.predict(preprocess(image_array) + noise, verbose=0), axis=1)[0])\n",
        "\n",
        "for n, pc, s, sig in zip(noises, predicted_classes, stats, SIGMA_VALS):\n",
        "    print(s)\n",
        "    Plotting.plot_images_and_noise(preprocessing_fn.preprocess(image_array).numpy(),\n",
        "                                n,\n",
        "                                config={\n",
        "                                    \"title\": f\"Smooth Fool (Overshoot: {eps}, Sigma: {sig}, Kernel size: {KERNEL_SIZE}, predicted class: {pc})\",\n",
        "                                })"
      ]
    },
    {
      "cell_type": "code",
      "execution_count": null,
      "id": "1292417c",
      "metadata": {
        "id": "1292417c"
      },
      "outputs": [],
      "source": [
        "noises = []\n",
        "predicted_classes = []\n",
        "stats = []\n",
        "for K_val in KERNEL_SIZE_VALS:\n",
        "    early_stopping = EarlyStopping(trigger=\"misclassification\", confidence=0.2)\n",
        "    preprocessing_fn = PreprocessingFromFunction.create(preprocess)\n",
        "\n",
        "    attacker = SmoothFoolAttack(\n",
        "        model=model,\n",
        "        preprocessing_fn=preprocessing_fn,\n",
        "        epsilon=EPSILON,\n",
        "        overshoot=OVERSHOOT,\n",
        "        sigma=SIGMA,\n",
        "        kernel_size=K_val,\n",
        "        callbacks=[early_stopping],\n",
        "        efficient_mode=EFFICIENT_MODE,\n",
        "    )\n",
        "\n",
        "    noise, noise_meta = attacker.attack(\n",
        "        sample=image_array,\n",
        "        target_class=924,\n",
        "        epochs=EPOCHS,\n",
        "    )\n",
        "\n",
        "    stats.append(\n",
        "    f\"Overshoot: {OVERSHOOT}\\n\"\n",
        "    f\"Sigma: {SIGMA}\\n\"\n",
        "    f\"Kernel size: {KERNEL_SIZE}\\n\"\n",
        "    f\"Original class: {np.argmax(model.predict(preprocess(image_array), verbose=0), axis=1)[0]}\\n\"\n",
        "    f\"Target class: {TARGET_CLASS}\\n\"\n",
        "    f\"Adversarial class: {np.argmax(model.predict(preprocess(image_array) + noise, verbose=0), axis=1)[0]}\\n\"\n",
        "    f\"Adversarial class confidence: {np.max(model.predict(preprocess(image_array) + noise, verbose=0), axis=1)[0]}\\n\"\n",
        "    f\"Noise min: {np.min(noise)}\\n\"\n",
        "    f\"Noise max: {np.max(noise)}\\n\"\n",
        "    )\n",
        "\n",
        "    noises.append(noise)\n",
        "    predicted_classes.append(np.argmax(model.predict(preprocess(image_array) + noise, verbose=0), axis=1)[0])\n",
        "\n",
        "for n, pc, s, ker in zip(noises, predicted_classes, stats, KERNEL_SIZE_VALS):\n",
        "    print(s)\n",
        "    Plotting.plot_images_and_noise(preprocessing_fn.preprocess(image_array).numpy(),\n",
        "                                n,\n",
        "                                config={\n",
        "                                    \"title\": f\"Smooth Fool (Overshoot: {eps}, Sigma: {SIGMA}, Kernel size: {ker}, predicted class: {pc})\",\n",
        "                                })"
      ]
    },
    {
      "cell_type": "markdown",
      "id": "a2d8841b",
      "metadata": {
        "id": "a2d8841b"
      },
      "source": [
        "# Blackbox Attacks"
      ]
    },
    {
      "cell_type": "markdown",
      "id": "f41f352b",
      "metadata": {
        "id": "f41f352b"
      },
      "source": [
        "## Setup"
      ]
    },
    {
      "cell_type": "code",
      "execution_count": null,
      "id": "c3f024c9",
      "metadata": {
        "id": "c3f024c9"
      },
      "outputs": [],
      "source": [
        "IMAGES_DIR = os.path.join(\"FLAIRS-38-Material\", \"data\", \"digits\")     # Directory containing the images\n",
        "MODEL_DIR = os.path.join(\"FLAIRS-38-Material\", \"models\")               # Directory containing the model\n",
        "DIGIT = 1\n",
        "IMAGE_NAME = \"1.png\""
      ]
    },
    {
      "cell_type": "code",
      "execution_count": null,
      "id": "e0e9c226",
      "metadata": {
        "id": "e0e9c226"
      },
      "outputs": [],
      "source": [
        "model = tf.keras.models.load_model(os.path.join(MODEL_DIR, \"mnist_digits.h5\"))\n",
        "input_shape = (28, 28)\n",
        "\n",
        "def preprocess_input(x):\n",
        "    x = tf.image.resize(x, input_shape[:2])\n",
        "    x = tf.image.rgb_to_grayscale(x)\n",
        "    x = tf.cast(x, tf.float32) / 255.0\n",
        "    return x\n",
        "\n",
        "def decode_predictions(preds, top=1):\n",
        "    class_indices = np.argsort(preds)[::-1][:top]\n",
        "    results = []\n",
        "    for i in class_indices:\n",
        "        results.append([(\"digit_{}\".format(i), i, float(preds[i]))])\n",
        "    return results"
      ]
    },
    {
      "cell_type": "code",
      "execution_count": null,
      "id": "48f8dd9b",
      "metadata": {
        "id": "48f8dd9b"
      },
      "outputs": [],
      "source": [
        "def blackbox_predict_array(image_array):\n",
        "    preprocessed = preprocess(image_array)\n",
        "    preds = model(preprocessed)\n",
        "    return preds.numpy().squeeze()\n",
        "\n",
        "def blackbox_predict_label(image_array):\n",
        "    preds = blackbox_predict_array(image_array)\n",
        "    return int(np.argmax(preds))"
      ]
    },
    {
      "cell_type": "code",
      "source": [
        "image_path = os.path.join(IMAGES_DIR, str(DIGIT), IMAGE_NAME)\n",
        "image_array = get_image_array(image_path)"
      ],
      "metadata": {
        "id": "RTeHn1RLCrD2"
      },
      "id": "RTeHn1RLCrD2",
      "execution_count": null,
      "outputs": []
    },
    {
      "cell_type": "code",
      "source": [
        "blackbox_predict_array(image_array)"
      ],
      "metadata": {
        "id": "4fB_WUPYBvBl"
      },
      "id": "4fB_WUPYBvBl",
      "execution_count": null,
      "outputs": []
    },
    {
      "cell_type": "code",
      "execution_count": null,
      "id": "2ad4dcc1",
      "metadata": {
        "id": "2ad4dcc1"
      },
      "outputs": [],
      "source": [
        "blackbox_predict_label(image_array)"
      ]
    },
    {
      "cell_type": "code",
      "source": [
        "decode_predictions(blackbox_predict_array(image_array))"
      ],
      "metadata": {
        "id": "PiPwMhSeCBY0"
      },
      "id": "PiPwMhSeCBY0",
      "execution_count": null,
      "outputs": []
    },
    {
      "cell_type": "markdown",
      "id": "407e1e71",
      "metadata": {
        "id": "407e1e71"
      },
      "source": [
        "## ZOO Attack"
      ]
    },
    {
      "cell_type": "code",
      "source": [
        "EPSILON = 1\n",
        "N_SAMPLES_FOR_GRADIENT = 200\n",
        "EPOCHS = 100\n",
        "LEARNING_RATE = 1"
      ],
      "metadata": {
        "id": "SoEQvpDLD3MW"
      },
      "id": "SoEQvpDLD3MW",
      "execution_count": null,
      "outputs": []
    },
    {
      "cell_type": "code",
      "execution_count": null,
      "id": "df584913",
      "metadata": {
        "id": "df584913"
      },
      "outputs": [],
      "source": [
        "def finite_difference_gradient(predict_fn, x, eps=EPSILON, samples=N_SAMPLES_FOR_GRADIENT):\n",
        "    grads = np.zeros_like(x, dtype=np.float32)\n",
        "    orig_label = np.argmax(predict_fn(x))\n",
        "    for _ in range(samples):\n",
        "        u = np.random.normal(size=x.shape).astype(np.float32)\n",
        "        u /= np.linalg.norm(u)\n",
        "        fx1 = predict_fn(np.clip(x + eps * u, 0, 255))[orig_label]\n",
        "        fx2 = predict_fn(np.clip(x - eps * u, 0, 255))[orig_label]\n",
        "        directional_derivative = (fx1 - fx2) / (2 * eps)\n",
        "        grads += directional_derivative * u\n",
        "    return grads / samples\n",
        "\n",
        "def nes_gradient(predict_fn, x, eps=EPSILON, samples=N_SAMPLES_FOR_GRADIENT):\n",
        "    grads = np.zeros_like(x, dtype=np.float32)\n",
        "    orig_label = np.argmax(predict_fn(x))\n",
        "    for _ in range(samples):\n",
        "        noise = np.random.normal(size=x.shape).astype(np.float32)\n",
        "        noise /= np.linalg.norm(noise)\n",
        "        fx1 = predict_fn(np.clip(x + eps * noise, 0, 255))[orig_label]\n",
        "        fx2 = predict_fn(np.clip(x - eps * noise, 0, 255))[orig_label]\n",
        "        directional_derivative = (fx1 - fx2) / (2 * eps)\n",
        "        grads += directional_derivative * noise\n",
        "    return grads / samples\n",
        "\n",
        "def zoo_attack(x, y, predict_fn, max_iters=EPOCHS, lr=LEARNING_RATE, grad_fn=finite_difference_gradient):\n",
        "    adv = x.copy().astype(np.float32)\n",
        "    for _ in range(max_iters):\n",
        "        grads = grad_fn(predict_fn, adv)\n",
        "        adv = adv - lr * np.sign(grads)\n",
        "        adv = np.clip(adv, 0, 255)\n",
        "        if _ % 10 == 0:\n",
        "          print(f\"Iter: {_}, Adversarial class: {np.argmax(predict_fn(adv))}, confidence: {np.max(predict_fn(adv))}\")\n",
        "        if np.argmax(predict_fn(adv)) != y:\n",
        "            print(f\"Iter: {_}, Adversarial class: {np.argmax(predict_fn(adv))}, confidence: {np.max(predict_fn(adv))}\")\n",
        "            break\n",
        "    return adv - x"
      ]
    },
    {
      "cell_type": "code",
      "execution_count": null,
      "id": "d9d9c487",
      "metadata": {
        "id": "d9d9c487"
      },
      "outputs": [],
      "source": [
        "image_path = os.path.join(IMAGES_DIR, str(DIGIT), IMAGE_NAME)\n",
        "image_array = get_image_array(image_path)"
      ]
    },
    {
      "cell_type": "markdown",
      "source": [
        "### Finite Difference ZOO"
      ],
      "metadata": {
        "id": "XJkptiB3DHjy"
      },
      "id": "XJkptiB3DHjy"
    },
    {
      "cell_type": "code",
      "execution_count": null,
      "id": "956ec4e8",
      "metadata": {
        "id": "956ec4e8"
      },
      "outputs": [],
      "source": [
        "finite_diff_noise = zoo_attack(image_array, blackbox_predict_label(image_array), blackbox_predict_array, grad_fn=finite_difference_gradient)"
      ]
    },
    {
      "cell_type": "code",
      "execution_count": null,
      "id": "de694883",
      "metadata": {
        "id": "de694883"
      },
      "outputs": [],
      "source": [
        "Plotting.plot_images_and_noise(image_array,\n",
        "                               finite_diff_noise,\n",
        "                               config={\n",
        "                                   \"title\": f\"Zoo Attack (Finite Difference Gradient)\",\n",
        "                               })"
      ]
    },
    {
      "cell_type": "code",
      "source": [
        "print(\n",
        "    f\"Epsilon: {EPSILON}\\n\"\n",
        "    f\"N Samples For Gradient: {N_SAMPLES_FOR_GRADIENT}\\n\"\n",
        "    f\"Learning Rate: {LEARNING_RATE}\\n\"\n",
        "    f\"Original class: {np.argmax(blackbox_predict_array(image_array), axis=0)}\\n\"\n",
        "    f\"Adversarial class: {np.argmax(blackbox_predict_array(image_array+finite_diff_noise), axis=0)}\\n\"\n",
        "    f\"Adversarial class confidence: {np.max(blackbox_predict_array(image_array+finite_diff_noise), axis=0)}\\n\"\n",
        "    f\"Noise min: {np.min(finite_diff_noise)}\\n\"\n",
        "    f\"Noise max: {np.max(noise)}\\n\"\n",
        "    )"
      ],
      "metadata": {
        "id": "mGvCNsDVEYoN"
      },
      "id": "mGvCNsDVEYoN",
      "execution_count": null,
      "outputs": []
    },
    {
      "cell_type": "markdown",
      "source": [
        "NES ZOO"
      ],
      "metadata": {
        "id": "QbixZ5A-DKbB"
      },
      "id": "QbixZ5A-DKbB"
    },
    {
      "cell_type": "code",
      "execution_count": null,
      "id": "d32955da",
      "metadata": {
        "id": "d32955da"
      },
      "outputs": [],
      "source": [
        "nes_noise = zoo_attack(image_array, blackbox_predict_label(image_array), blackbox_predict_array, grad_fn=nes_gradient)"
      ]
    },
    {
      "cell_type": "code",
      "execution_count": null,
      "id": "3a65d504",
      "metadata": {
        "id": "3a65d504"
      },
      "outputs": [],
      "source": [
        "Plotting.plot_images_and_noise(image_array,\n",
        "                               nes_noise,\n",
        "                               config={\n",
        "                                   \"title\": f\"Zoo Attack (NES)\",\n",
        "                               })"
      ]
    },
    {
      "cell_type": "code",
      "source": [
        "print(\n",
        "    f\"Epsilon: {EPSILON}\\n\"\n",
        "    f\"N Samples For Gradient: {N_SAMPLES_FOR_GRADIENT}\\n\"\n",
        "    f\"Learning Rate: {LEARNING_RATE}\\n\"\n",
        "    f\"Original class: {np.argmax(blackbox_predict_array(image_array), axis=0)}\\n\"\n",
        "    f\"Adversarial class: {np.argmax(blackbox_predict_array(image_array+nes_noise), axis=0)}\\n\"\n",
        "    f\"Adversarial class confidence: {np.max(blackbox_predict_array(image_array+nes_noise), axis=0)}\\n\"\n",
        "    f\"Noise min: {np.min(nes_noise)}\\n\"\n",
        "    f\"Noise max: {np.max(nes_noise)}\\n\"\n",
        "    )"
      ],
      "metadata": {
        "id": "UuZfEtE-ET84"
      },
      "id": "UuZfEtE-ET84",
      "execution_count": null,
      "outputs": []
    },
    {
      "cell_type": "markdown",
      "id": "e6505885",
      "metadata": {
        "id": "e6505885"
      },
      "source": [
        "## Square Attack"
      ]
    },
    {
      "cell_type": "code",
      "source": [
        "EPSILON = 16\n",
        "EPOCHS = 100"
      ],
      "metadata": {
        "id": "ek0mOJH4FPIf"
      },
      "id": "ek0mOJH4FPIf",
      "execution_count": null,
      "outputs": []
    },
    {
      "cell_type": "code",
      "execution_count": null,
      "id": "be6f8893",
      "metadata": {
        "id": "be6f8893"
      },
      "outputs": [],
      "source": [
        "def square_attack(x, y, predict_fn, eps=EPSILON, max_iters=EPOCHS):\n",
        "    adv = x.copy().astype(np.float32)\n",
        "    h, w = x.shape\n",
        "    for _ in range(max_iters):\n",
        "        if _ % 10 == 0:\n",
        "            print(f\"Iter: {_}, Adversarial class: {np.argmax(predict_fn(adv))}, confidence: {np.max(predict_fn(adv))}\")\n",
        "        if np.argmax(predict_fn(adv)) != y:\n",
        "            print(f\"Iter: {_}, Adversarial class: {np.argmax(predict_fn(adv))}, confidence: {np.max(predict_fn(adv))}\")\n",
        "            break\n",
        "        s = np.random.randint(1, min(h, w) // 2)\n",
        "        x0 = np.random.randint(0, h - s)\n",
        "        y0 = np.random.randint(0, w - s)\n",
        "        noise = np.random.randint(0, 2, size=(s, s)) * 2 - 1\n",
        "        patch = adv[x0:x0+s, y0:y0+s] + eps * noise\n",
        "        adv[x0:x0+s, y0:y0+s] = np.clip(patch, 0, 255)\n",
        "    return adv - x"
      ]
    },
    {
      "cell_type": "code",
      "execution_count": null,
      "id": "7120c804",
      "metadata": {
        "id": "7120c804"
      },
      "outputs": [],
      "source": [
        "square_attack_noise = square_attack(image_array, blackbox_predict_label(image_array), blackbox_predict_array)"
      ]
    },
    {
      "cell_type": "code",
      "execution_count": null,
      "id": "d9428981",
      "metadata": {
        "id": "d9428981"
      },
      "outputs": [],
      "source": [
        "Plotting.plot_images_and_noise(image_array,\n",
        "                               square_attack_noise,\n",
        "                               config={\n",
        "                                   \"title\": f\"Square Attack\",\n",
        "                               })"
      ]
    },
    {
      "cell_type": "code",
      "source": [
        "print(\n",
        "    f\"Epsilon: {EPSILON}\\n\"\n",
        "    f\"Original class: {np.argmax(blackbox_predict_array(image_array), axis=0)}\\n\"\n",
        "    f\"Adversarial class: {np.argmax(blackbox_predict_array(image_array+square_attack_noise), axis=0)}\\n\"\n",
        "    f\"Adversarial class confidence: {np.max(blackbox_predict_array(image_array+square_attack_noise), axis=0)}\\n\"\n",
        "    f\"Noise min: {np.min(square_attack_noise)}\\n\"\n",
        "    f\"Noise max: {np.max(square_attack_noise)}\\n\"\n",
        "    )"
      ],
      "metadata": {
        "id": "Dhy4aTUAFOHr"
      },
      "id": "Dhy4aTUAFOHr",
      "execution_count": null,
      "outputs": []
    },
    {
      "cell_type": "markdown",
      "id": "8ebe658c",
      "metadata": {
        "id": "8ebe658c"
      },
      "source": [
        "## Label Only Attack"
      ]
    },
    {
      "cell_type": "code",
      "source": [
        "EPSILON = 1\n",
        "EPOCHS = 1000\n",
        "PIXELS_PER_ITER = 84"
      ],
      "metadata": {
        "id": "Cvxic4hRFnHA"
      },
      "id": "Cvxic4hRFnHA",
      "execution_count": null,
      "outputs": []
    },
    {
      "cell_type": "code",
      "execution_count": null,
      "id": "8cec618d",
      "metadata": {
        "id": "8cec618d"
      },
      "outputs": [],
      "source": [
        "def label_only_attack(x, y, predict_fn, max_iters=EPOCHS, eps=EPSILON, pixels_per_iter=PIXELS_PER_ITER):\n",
        "    adv = x.copy().astype(np.float32)\n",
        "\n",
        "    if predict_fn(adv) != y:\n",
        "        return adv - x\n",
        "\n",
        "    h, w = x.shape\n",
        "    for _ in range(max_iters):\n",
        "        noise = np.zeros_like(x)\n",
        "        for _ in range(pixels_per_iter):\n",
        "            x0 = np.random.randint(0, h)\n",
        "            y0 = np.random.randint(0, w)\n",
        "            noise[x0, y0] = np.random.choice([-eps, eps])\n",
        "\n",
        "        candidate = np.clip(adv + noise, 0, 255)\n",
        "        if predict_fn(candidate) != y:\n",
        "            return candidate - x\n",
        "\n",
        "    return np.zeros_like(x)\n"
      ]
    },
    {
      "cell_type": "code",
      "execution_count": null,
      "id": "f5036c79",
      "metadata": {
        "id": "f5036c79"
      },
      "outputs": [],
      "source": [
        "label_attack_noise = label_only_attack(image_array, blackbox_predict_label(image_array), blackbox_predict_label)"
      ]
    },
    {
      "cell_type": "code",
      "execution_count": null,
      "id": "5dce9889",
      "metadata": {
        "id": "5dce9889"
      },
      "outputs": [],
      "source": [
        "Plotting.plot_images_and_noise(image_array,\n",
        "                               label_attack_noise,\n",
        "                               config={\n",
        "                                   \"title\": f\"Label Only Attack\",\n",
        "                               })"
      ]
    },
    {
      "cell_type": "code",
      "source": [
        "print(\n",
        "    f\"Epsilon: {EPSILON}\\n\"\n",
        "    f\"Pixels per Iter: {PIXELS_PER_ITER}\\n\"\n",
        "    f\"Original class: {np.argmax(blackbox_predict_array(image_array), axis=0)}\\n\"\n",
        "    f\"Adversarial class: {np.argmax(blackbox_predict_array(image_array+label_attack_noise), axis=0)}\\n\"\n",
        "    f\"Adversarial class confidence: {np.max(blackbox_predict_array(image_array+label_attack_noise), axis=0)}\\n\"\n",
        "    f\"Noise min: {np.min(label_attack_noise)}\\n\"\n",
        "    f\"Noise max: {np.max(label_attack_noise)}\\n\"\n",
        "    )"
      ],
      "metadata": {
        "id": "Tx0NqEvpFxwb"
      },
      "id": "Tx0NqEvpFxwb",
      "execution_count": null,
      "outputs": []
    }
  ],
  "metadata": {
    "kernelspec": {
      "display_name": "Python 3",
      "name": "python3"
    },
    "language_info": {
      "codemirror_mode": {
        "name": "ipython",
        "version": 3
      },
      "file_extension": ".py",
      "mimetype": "text/x-python",
      "name": "python",
      "nbconvert_exporter": "python",
      "pygments_lexer": "ipython3",
      "version": "3.11.9"
    },
    "colab": {
      "provenance": [],
      "gpuType": "T4",
      "include_colab_link": true
    },
    "accelerator": "GPU"
  },
  "nbformat": 4,
  "nbformat_minor": 5
}