{
  "cells": [
    {
      "cell_type": "markdown",
      "metadata": {
        "id": "view-in-github",
        "colab_type": "text"
      },
      "source": [
        "<a href=\"https://colab.research.google.com/github/pavanreddyml/FLAIRS-38-Material/blob/main/notebooks/02%20-%20Tracking_And_Analytics.ipynb\" target=\"_parent\"><img src=\"https://colab.research.google.com/assets/colab-badge.svg\" alt=\"Open In Colab\"/></a>"
      ]
    },
    {
      "cell_type": "markdown",
      "id": "a333f35a",
      "metadata": {
        "id": "a333f35a"
      },
      "source": [
        "# Hands On Adversarial Attacks"
      ]
    },
    {
      "cell_type": "markdown",
      "id": "756b1c64",
      "metadata": {
        "id": "756b1c64"
      },
      "source": [
        "# Setup"
      ]
    },
    {
      "cell_type": "code",
      "execution_count": null,
      "id": "lTooG8SPMxkD",
      "metadata": {
        "id": "lTooG8SPMxkD"
      },
      "outputs": [],
      "source": [
        "!pip install adversarial-lab"
      ]
    },
    {
      "cell_type": "code",
      "execution_count": null,
      "id": "fVHon6NeMya8",
      "metadata": {
        "id": "fVHon6NeMya8"
      },
      "outputs": [],
      "source": [
        "!git clone https://github.com/pavanreddyml/FLAIRS-38-Material.git"
      ]
    },
    {
      "cell_type": "code",
      "execution_count": null,
      "id": "4b4796b2",
      "metadata": {
        "id": "4b4796b2"
      },
      "outputs": [],
      "source": [
        "from adversarial_lab.analytics import *\n",
        "from adversarial_lab.db import SqlliteDB\n",
        "from adversarial_lab.core.optimizers import PGD\n",
        "from adversarial_lab.core.losses import CategoricalCrossEntropy\n",
        "from adversarial_lab.attacker.whitebox import WhiteBoxMisclassification\n",
        "from adversarial_lab.core.noise_generators import AdditiveNoiseGenerator\n",
        "from adversarial_lab.core.preprocessing import PreprocessingFromFunction\n",
        "from adversarial_lab.core.constraints import POClip, PONoisedSampleBounding\n",
        "from adversarial_lab.callbacks import EarlyStopping\n",
        "from adversarial_lab.arsenal.whitebox import *\n",
        "\n",
        "from adversarial_lab.utils import Plotting, PlottingFromDB, VideoPlotter\n",
        "\n",
        "import os\n",
        "from tqdm import tqdm\n",
        "from PIL import Image\n",
        "import matplotlib.pyplot as plt\n",
        "\n",
        "import numpy as np\n",
        "import tensorflow as tf\n",
        "from tensorflow.keras.preprocessing import image"
      ]
    },
    {
      "cell_type": "code",
      "execution_count": null,
      "id": "1bf2ca89",
      "metadata": {
        "id": "1bf2ca89"
      },
      "outputs": [],
      "source": [
        "MODEL = \"InceptionV3\"     # Supported models: InceptionV3, ResNet50, MobileNetV2, Digits\n",
        "IMAGES_DIR = os.path.join(\"FLAIRS-38-Material\", \"data\", \"animals\")     # Directory containing the images\n",
        "MODEL_DIR = os.path.join(\"FLAIRS-38-Material\", \"models\")               # Directory containing the model"
      ]
    },
    {
      "cell_type": "code",
      "execution_count": null,
      "id": "7da6eeec",
      "metadata": {
        "id": "7da6eeec"
      },
      "outputs": [],
      "source": [
        "if MODEL == \"InceptionV3\":\n",
        "    from tensorflow.keras.applications import InceptionV3\n",
        "    from tensorflow.keras.applications.inception_v3 import preprocess_input, decode_predictions\n",
        "    model = InceptionV3(weights='imagenet')\n",
        "    input_shape = (299, 299, 3)\n",
        "elif MODEL == \"ResNet50\":\n",
        "    from tensorflow.keras.applications import ResNet50\n",
        "    from tensorflow.keras.applications.resnet50 import preprocess_input, decode_predictions\n",
        "    model = ResNet50(weights='imagenet')\n",
        "    input_shape = (224, 224, 3)\n",
        "elif MODEL == \"MobileNetV2\":\n",
        "    from tensorflow.keras.applications import MobileNetV2\n",
        "    from tensorflow.keras.applications.mobilenet_v2 import preprocess_input, decode_predictions\n",
        "    model = MobileNetV2(weights='imagenet')\n",
        "    input_shape = (224, 224, 3)\n",
        "else:\n",
        "  raise ValueError(f\"Unsupported Model: {MODEL}\")"
      ]
    },
    {
      "cell_type": "code",
      "execution_count": null,
      "id": "0207eb3c",
      "metadata": {
        "id": "0207eb3c"
      },
      "outputs": [],
      "source": [
        "def preprocess(sample, *args, **kwargs):\n",
        "    input_sample = tf.cast(sample, dtype=tf.float32)\n",
        "    if len(input_sample.shape) == 2:\n",
        "        input_sample = tf.expand_dims(input_sample, axis=-1)\n",
        "        input_sample = tf.image.grayscale_to_rgb(input_sample)\n",
        "\n",
        "    elif len(input_sample.shape) == 3 and input_sample.shape[-1] == 1:\n",
        "        input_sample = tf.image.grayscale_to_rgb(input_sample)\n",
        "\n",
        "    input_tensor = tf.convert_to_tensor(input_sample, dtype=tf.float32)\n",
        "    resized_image = tf.image.resize(input_tensor, input_shape[:2])\n",
        "    batch_image = tf.expand_dims(resized_image, axis=0)\n",
        "    return preprocess_input(batch_image)"
      ]
    },
    {
      "cell_type": "code",
      "execution_count": null,
      "id": "71d07edc",
      "metadata": {
        "id": "71d07edc"
      },
      "outputs": [],
      "source": [
        "def get_image_array(image_path):\n",
        "    image = Image.open(image_path)\n",
        "    image_array = np.array(image)\n",
        "    return image_array"
      ]
    },
    {
      "cell_type": "markdown",
      "id": "b3d97f03",
      "metadata": {
        "id": "b3d97f03"
      },
      "source": [
        "# Initialize Tracking and Analytics"
      ]
    },
    {
      "cell_type": "code",
      "execution_count": null,
      "id": "xj1h7_1CNB7L",
      "metadata": {
        "id": "xj1h7_1CNB7L"
      },
      "outputs": [],
      "source": [
        "db = SqlliteDB(db_path=\"whitebox.db\")\n",
        "\n",
        "def get_analytics(table_name):\n",
        "  analytics = AdversarialAnalytics(\n",
        "      db=db,\n",
        "      trackers=[\n",
        "          ImageTracker(),\n",
        "          LossTracker(),\n",
        "          NoiseStatisticsTracker(),\n",
        "          NoiseTracker(),\n",
        "          PredictionsTracker()\n",
        "      ],\n",
        "      table_name=table_name,\n",
        "      force_create_table=True\n",
        "  )\n",
        "  return analytics"
      ]
    },
    {
      "cell_type": "markdown",
      "id": "72763ce4",
      "metadata": {
        "id": "72763ce4"
      },
      "source": [
        "## BIM And PGD"
      ]
    },
    {
      "cell_type": "code",
      "execution_count": null,
      "id": "cd33be31",
      "metadata": {
        "id": "cd33be31"
      },
      "outputs": [],
      "source": [
        "IMAGE = \"panda.jpg\"\n",
        "EPSILON = 5\n",
        "LEARNING_RATE = 1\n",
        "TARGET_CLASS = 924\n",
        "TARGET_CLASS_CONFIDENCE = 0.5\n",
        "ON_ORIGINAL = True\n",
        "EARLY_STOP = False\n",
        "VERBOSE = 3\n",
        "EPOCHS = 100"
      ]
    },
    {
      "cell_type": "code",
      "execution_count": null,
      "id": "595b5788",
      "metadata": {
        "id": "595b5788"
      },
      "outputs": [],
      "source": [
        "image_path = os.path.join(IMAGES_DIR, IMAGE)\n",
        "image_array = get_image_array(image_path)"
      ]
    },
    {
      "cell_type": "code",
      "execution_count": null,
      "id": "5cd32f70",
      "metadata": {
        "id": "5cd32f70"
      },
      "outputs": [],
      "source": [
        "predictions = model.predict(preprocess(image_array), verbose=0)\n",
        "print(\"Predicted class:\", decode_predictions(predictions, top=1)[0][0][1])\n",
        "print(\"Predicted class index:\", np.argmax(predictions, axis=1)[0])\n",
        "print(\"Predicted class probability:\", np.max(predictions, axis=1)[0])"
      ]
    },
    {
      "cell_type": "code",
      "execution_count": null,
      "id": "f1219a8a",
      "metadata": {
        "id": "f1219a8a"
      },
      "outputs": [],
      "source": [
        "attacker = ProjectedGradientDescentAttack(\n",
        "    model=model,\n",
        "    preprocessing_fn=PreprocessingFromFunction.create(preprocess),\n",
        "    learning_rate=float(LEARNING_RATE),\n",
        "    epsilon=float(EPSILON),\n",
        "    binary=False,\n",
        "    verbose=VERBOSE,\n",
        "    callbacks=[EarlyStopping(trigger=\"misclassification\", confidence=0.5)] if EARLY_STOP else None,\n",
        "    analytics=get_analytics(\"BIM\"),\n",
        ")\n",
        "\n",
        "noise, noise_meta = attacker.attack(\n",
        "    sample=image_array,\n",
        "    target_class=TARGET_CLASS,\n",
        "    on_original=ON_ORIGINAL,\n",
        "    epochs=EPOCHS\n",
        ")\n",
        "\n",
        "Plotting.plot_images_and_noise(image_array,\n",
        "                               noise,\n",
        "                               config={\n",
        "                                   \"title\": f\"BIM (Epsilon: {EPSILON}, Learning Rate: {LEARNING_RATE})\",\n",
        "                               })"
      ]
    },
    {
      "cell_type": "code",
      "execution_count": null,
      "id": "7a7b62a6",
      "metadata": {
        "id": "7a7b62a6"
      },
      "outputs": [],
      "source": [
        "print(\n",
        "    f\"Epsilon: {EPSILON}\\n\"\n",
        "    f\"Learning Rate: {LEARNING_RATE}\\n\"\n",
        "    f\"Original class: {np.argmax(model.predict(preprocess(image_array), verbose=0), axis=1)[0]}\\n\"\n",
        "    f\"Target class: {TARGET_CLASS}\\n\"\n",
        "    f\"Adversarial class: {np.argmax(model.predict(preprocess(image_array + noise), verbose=0), axis=1)[0]}\\n\"\n",
        "    f\"Adversarial class confidence: {np.max(model.predict(preprocess(image_array + noise), verbose=0), axis=1)[0]}\\n\"\n",
        "    f\"Noise min: {np.min(noise)}\\n\"\n",
        "    f\"Noise max: {np.max(noise)}\\n\"\n",
        ")"
      ]
    },
    {
      "cell_type": "code",
      "execution_count": null,
      "id": "LkA2EboSNwNm",
      "metadata": {
        "id": "LkA2EboSNwNm"
      },
      "outputs": [],
      "source": [
        "plotter = PlottingFromDB(db, table_name=\"BIM\")"
      ]
    },
    {
      "cell_type": "code",
      "execution_count": null,
      "id": "SCaEYnzaN8zf",
      "metadata": {
        "id": "SCaEYnzaN8zf"
      },
      "outputs": [],
      "source": [
        "plotter.plot_losses()"
      ]
    },
    {
      "cell_type": "code",
      "execution_count": null,
      "id": "qU2AvO8oN-zi",
      "metadata": {
        "id": "qU2AvO8oN-zi"
      },
      "outputs": [],
      "source": [
        "plotter.plot_predictions(idx=[388, 924])"
      ]
    },
    {
      "cell_type": "code",
      "execution_count": null,
      "id": "fdTRW-AdOA0G",
      "metadata": {
        "id": "fdTRW-AdOA0G"
      },
      "outputs": [],
      "source": [
        "v_plotter = VideoPlotter(db, table_name=\"BIM\")\n",
        "v_plotter.make_video(save_path=\"BIM.mp4\")"
      ]
    },
    {
      "cell_type": "markdown",
      "id": "389fd8d0",
      "metadata": {
        "id": "389fd8d0"
      },
      "source": [
        "## Carlini Wagner Attack (C&W)"
      ]
    },
    {
      "cell_type": "code",
      "execution_count": null,
      "id": "d88352e9",
      "metadata": {
        "id": "d88352e9"
      },
      "outputs": [],
      "source": [
        "IMAGE = \"panda.jpg\"\n",
        "C=50,\n",
        "KAPPA=0.5,\n",
        "LEARNING_RATE = 1\n",
        "TARGET_CLASS = 924\n",
        "TARGET_CLASS_CONFIDENCE = 0.5\n",
        "ON_ORIGINAL = True\n",
        "EARLY_STOP = False\n",
        "VERBOSE = 3\n",
        "EPOCHS = 100"
      ]
    },
    {
      "cell_type": "code",
      "execution_count": null,
      "id": "10e47627",
      "metadata": {
        "id": "10e47627"
      },
      "outputs": [],
      "source": [
        "image_path = os.path.join(IMAGES_DIR, IMAGE)\n",
        "image_array = get_image_array(image_path)"
      ]
    },
    {
      "cell_type": "code",
      "execution_count": null,
      "id": "17747359",
      "metadata": {
        "id": "17747359"
      },
      "outputs": [],
      "source": [
        "predictions = model.predict(preprocess(image_array), verbose=0)\n",
        "print(\"Predicted class:\", decode_predictions(predictions, top=1)[0][0][1])\n",
        "print(\"Predicted class index:\", np.argmax(predictions, axis=1)[0])\n",
        "print(\"Predicted class probability:\", np.max(predictions, axis=1)[0])"
      ]
    },
    {
      "cell_type": "code",
      "execution_count": null,
      "id": "c19046f9",
      "metadata": {
        "id": "c19046f9"
      },
      "outputs": [],
      "source": [
        "attacker = CarliniWagnerAttack(\n",
        "    model=model,\n",
        "    preprocessing_fn=PreprocessingFromFunction.create(preprocess),\n",
        "    learning_rate=float(LEARNING_RATE),\n",
        "    C=C,\n",
        "    kappa=KAPPA,\n",
        "    binary=False,\n",
        "    verbose=VERBOSE,\n",
        "    callbacks=[EarlyStopping(trigger=\"misclassification\", confidence=TARGET_CLASS_CONFIDENCE)] if EARLY_STOP else None,\n",
        "    analytics=get_analytics(\"CW\")\n",
        ")\n",
        "\n",
        "noise, noise_meta = attacker.attack(\n",
        "    sample=image_array,\n",
        "    target_class=TARGET_CLASS,\n",
        "    on_original=ON_ORIGINAL, # This determines if the attack is performed on the original image or on the preprocessed one\n",
        "    epochs=EPOCHS\n",
        ")\n",
        "\n",
        "Plotting.plot_images_and_noise(image_array,\n",
        "                               noise,\n",
        "                               config={\n",
        "                                   \"title\": f\"C&W Attack (C: {C}, Kappa: {KAPPA})\",\n",
        "                               })"
      ]
    },
    {
      "cell_type": "code",
      "execution_count": null,
      "id": "43d37b21",
      "metadata": {
        "id": "43d37b21"
      },
      "outputs": [],
      "source": [
        "print(\n",
        "    f\"C: {C}\\n\"\n",
        "    f\"KAPPA: {KAPPA}\\n\"\n",
        "    f\"Original class: {np.argmax(model.predict(preprocess(image_array), verbose=0), axis=1)[0]}\\n\"\n",
        "    f\"Target class: {TARGET_CLASS}\\n\"\n",
        "    f\"Adversarial class: {np.argmax(model.predict(preprocess(image_array + noise), verbose=0), axis=1)[0]}\\n\"\n",
        "    f\"Adversarial class confidence: {np.max(model.predict(preprocess(image_array + noise), verbose=0), axis=1)[0]}\\n\"\n",
        "    f\"Noise min: {np.min(noise)}\\n\"\n",
        "    f\"Noise max: {np.max(noise)}\\n\"\n",
        ")"
      ]
    },
    {
      "cell_type": "code",
      "execution_count": null,
      "id": "5qNfu_usOlnp",
      "metadata": {
        "id": "5qNfu_usOlnp"
      },
      "outputs": [],
      "source": [
        "plotter = PlottingFromDB(db, table_name=\"BIM\")"
      ]
    },
    {
      "cell_type": "code",
      "execution_count": null,
      "id": "PJgri1VhOlnr",
      "metadata": {
        "id": "PJgri1VhOlnr"
      },
      "outputs": [],
      "source": [
        "plotter.plot_losses()"
      ]
    },
    {
      "cell_type": "code",
      "execution_count": null,
      "id": "LZuOGEgSOlnr",
      "metadata": {
        "id": "LZuOGEgSOlnr"
      },
      "outputs": [],
      "source": [
        "plotter.plot_predictions(idx=[388, 924])"
      ]
    },
    {
      "cell_type": "code",
      "execution_count": null,
      "id": "Rfk68TDiOlnr",
      "metadata": {
        "id": "Rfk68TDiOlnr"
      },
      "outputs": [],
      "source": [
        "v_plotter = VideoPlotter(db, table_name=\"BIM\")\n",
        "v_plotter.make_video(save_path=\"CW.mp4\")"
      ]
    },
    {
      "cell_type": "markdown",
      "id": "543ffc10",
      "metadata": {
        "id": "543ffc10"
      },
      "source": [
        "## Deepfool"
      ]
    },
    {
      "cell_type": "code",
      "execution_count": null,
      "id": "c41e31f0",
      "metadata": {
        "id": "c41e31f0"
      },
      "outputs": [],
      "source": [
        "IMAGE = \"panda.jpg\"\n",
        "OVERSHOOT = 0.1\n",
        "OVERSHOOT_VALS = [0.1, 0.25, 0.5]\n",
        "TARGET_CLASS = 924\n",
        "TARGET_CLASS_CONFIDENCE = 0.3\n",
        "ON_ORIGINAL = False                     # Deep Fool does not support on_original=True\n",
        "EARLY_STOP = False\n",
        "VERBOSE = 3\n",
        "EPOCHS = 100\n",
        "EFFICIENT_MODE = 20"
      ]
    },
    {
      "cell_type": "code",
      "execution_count": null,
      "id": "416e09d6",
      "metadata": {
        "id": "416e09d6"
      },
      "outputs": [],
      "source": [
        "image_path = os.path.join(IMAGES_DIR, IMAGE)\n",
        "image_array = get_image_array(image_path)"
      ]
    },
    {
      "cell_type": "code",
      "execution_count": null,
      "id": "93e6c2ad",
      "metadata": {
        "id": "93e6c2ad"
      },
      "outputs": [],
      "source": [
        "predictions = model.predict(preprocess(image_array), verbose=0)\n",
        "print(\"Predicted class:\", decode_predictions(predictions, top=1)[0][0][1])\n",
        "print(\"Predicted class index:\", np.argmax(predictions, axis=1)[0])\n",
        "print(\"Predicted class probability:\", np.max(predictions, axis=1)[0])"
      ]
    },
    {
      "cell_type": "code",
      "execution_count": null,
      "id": "e34cbc33",
      "metadata": {
        "id": "e34cbc33"
      },
      "outputs": [],
      "source": [
        "early_stopping = EarlyStopping(trigger=\"misclassification\", confidence=0.2)\n",
        "preprocessing_fn = PreprocessingFromFunction.create(preprocess)\n",
        "\n",
        "attacker = DeepFoolAttack(\n",
        "    model=model,\n",
        "    preprocessing_fn=preprocessing_fn,\n",
        "    epsilon=EPSILON,\n",
        "    overshoot=OVERSHOOT,\n",
        "    callbacks=[EarlyStopping(trigger=\"misclassification\", confidence=TARGET_CLASS_CONFIDENCE)] if EARLY_STOP else None,\n",
        "    analytics=get_analytics(\"DeepFool\"),\n",
        "    efficient_mode=EFFICIENT_MODE,\n",
        ")\n",
        "\n",
        "noise, noise_meta = attacker.attack(\n",
        "    sample=image_array,\n",
        "    target_class=924,\n",
        "    on_original=ON_ORIGINAL,\n",
        "    epochs=EPOCHS,\n",
        ")\n",
        "\n",
        "Plotting.plot_images_and_noise(preprocessing_fn.preprocess(image_array).numpy(),\n",
        "                               noise,\n",
        "                               config={\n",
        "                                   \"title\": f\"Deep Fool (Overshoot: {OVERSHOOT})\",\n",
        "                               })"
      ]
    },
    {
      "cell_type": "code",
      "execution_count": null,
      "id": "d4e564b0",
      "metadata": {
        "id": "d4e564b0"
      },
      "outputs": [],
      "source": [
        "print(\n",
        "    f\"Overshoot: {OVERSHOOT}\\n\"\n",
        "    f\"Original class: {np.argmax(model.predict(preprocess(image_array), verbose=0), axis=1)[0]}\\n\"\n",
        "    f\"Target class: {TARGET_CLASS}\\n\"\n",
        "    f\"Adversarial class: {np.argmax(model.predict(preprocess(image_array) + noise, verbose=0), axis=1)[0]}\\n\"\n",
        "    f\"Adversarial class confidence: {np.max(model.predict(preprocess(image_array) + noise, verbose=0), axis=1)[0]}\\n\"\n",
        "    f\"Noise min: {np.min(noise)}\\n\"\n",
        "    f\"Noise max: {np.max(noise)}\\n\"\n",
        ")"
      ]
    },
    {
      "cell_type": "code",
      "execution_count": null,
      "id": "hEaf-OfoOq3r",
      "metadata": {
        "id": "hEaf-OfoOq3r"
      },
      "outputs": [],
      "source": [
        "plotter = PlottingFromDB(db, table_name=\"DeepFool\")"
      ]
    },
    {
      "cell_type": "code",
      "execution_count": null,
      "id": "p17HelD0Oq3r",
      "metadata": {
        "id": "p17HelD0Oq3r"
      },
      "outputs": [],
      "source": [
        "plotter.plot_losses()"
      ]
    },
    {
      "cell_type": "code",
      "execution_count": null,
      "id": "IzQzeuveOq3s",
      "metadata": {
        "id": "IzQzeuveOq3s"
      },
      "outputs": [],
      "source": [
        "plotter.plot_predictions(idx=[388, 924])"
      ]
    },
    {
      "cell_type": "code",
      "execution_count": null,
      "id": "OwMfJibTOq3s",
      "metadata": {
        "id": "OwMfJibTOq3s"
      },
      "outputs": [],
      "source": [
        "v_plotter = VideoPlotter(db, table_name=\"DeepFool\")\n",
        "v_plotter.make_video(save_path=\"DeepFool.mp4\")"
      ]
    },
    {
      "cell_type": "markdown",
      "id": "6f4264d1",
      "metadata": {
        "id": "6f4264d1"
      },
      "source": [
        "## Smooth Fool"
      ]
    },
    {
      "cell_type": "code",
      "execution_count": null,
      "id": "1c643f31",
      "metadata": {
        "id": "1c643f31"
      },
      "outputs": [],
      "source": [
        "IMAGE = \"panda.jpg\"\n",
        "OVERSHOOT = 0.1\n",
        "SIGMA = 0.5\n",
        "KERNEL_SIZE = 3\n",
        "TARGET_CLASS = 924\n",
        "TARGET_CLASS_CONFIDENCE = 0.3\n",
        "ON_ORIGINAL = False                     # Smooth Fool does not support on_original=True\n",
        "EARLY_STOP = False\n",
        "VERBOSE = 3\n",
        "EPOCHS = 100\n",
        "EFFICIENT_MODE = 20"
      ]
    },
    {
      "cell_type": "code",
      "execution_count": null,
      "id": "0b06c274",
      "metadata": {
        "id": "0b06c274"
      },
      "outputs": [],
      "source": [
        "image_path = os.path.join(IMAGES_DIR, IMAGE)\n",
        "image_array = get_image_array(image_path)"
      ]
    },
    {
      "cell_type": "code",
      "execution_count": null,
      "id": "451d45dd",
      "metadata": {
        "id": "451d45dd"
      },
      "outputs": [],
      "source": [
        "predictions = model.predict(preprocess(image_array), verbose=0)\n",
        "print(\"Predicted class:\", decode_predictions(predictions, top=1)[0][0][1])\n",
        "print(\"Predicted class index:\", np.argmax(predictions, axis=1)[0])\n",
        "print(\"Predicted class probability:\", np.max(predictions, axis=1)[0])"
      ]
    },
    {
      "cell_type": "code",
      "execution_count": null,
      "id": "4f1fabd8",
      "metadata": {
        "id": "4f1fabd8"
      },
      "outputs": [],
      "source": [
        "early_stopping = EarlyStopping(trigger=\"misclassification\", confidence=0.2)\n",
        "preprocessing_fn = PreprocessingFromFunction.create(preprocess)\n",
        "\n",
        "attacker = SmoothFoolAttack(\n",
        "    model=model,\n",
        "    preprocessing_fn=preprocessing_fn,\n",
        "    epsilon=EPSILON,\n",
        "    overshoot=OVERSHOOT,\n",
        "    sigma=SIGMA,\n",
        "    kernel_size=KERNEL_SIZE,\n",
        "    callbacks=[EarlyStopping(trigger=\"misclassification\", confidence=TARGET_CLASS_CONFIDENCE)] if EARLY_STOP else None,\n",
        "    analytics=get_analytics(\"SmoothFool\"),\n",
        "    efficient_mode=EFFICIENT_MODE,\n",
        ")\n",
        "\n",
        "noise, noise_meta = attacker.attack(\n",
        "    sample=image_array,\n",
        "    target_class=924,\n",
        "    epochs=EPOCHS,\n",
        ")\n",
        "\n",
        "Plotting.plot_images_and_noise(preprocessing_fn.preprocess(image_array).numpy(), noise)"
      ]
    },
    {
      "cell_type": "code",
      "execution_count": null,
      "id": "fab79a5f",
      "metadata": {
        "id": "fab79a5f"
      },
      "outputs": [],
      "source": [
        "print(\n",
        "    f\"Overshoot: {OVERSHOOT}\\n\"\n",
        "    f\"Sigma: {SIGMA}\\n\"\n",
        "    f\"Kernel size: {KERNEL_SIZE}\\n\"\n",
        "    f\"Original class: {np.argmax(model.predict(preprocess(image_array), verbose=0), axis=1)[0]}\\n\"\n",
        "    f\"Target class: {TARGET_CLASS}\\n\"\n",
        "    f\"Adversarial class: {np.argmax(model.predict(preprocess(image_array) + noise, verbose=0), axis=1)[0]}\\n\"\n",
        "    f\"Adversarial class confidence: {np.max(model.predict(preprocess(image_array) + noise, verbose=0), axis=1)[0]}\\n\"\n",
        "    f\"Noise min: {np.min(noise)}\\n\"\n",
        "    f\"Noise max: {np.max(noise)}\\n\"\n",
        ")"
      ]
    },
    {
      "cell_type": "code",
      "execution_count": null,
      "id": "an-0jWMQO-CN",
      "metadata": {
        "id": "an-0jWMQO-CN"
      },
      "outputs": [],
      "source": [
        "plotter = PlottingFromDB(db, table_name=\"SmoothFool\")"
      ]
    },
    {
      "cell_type": "code",
      "execution_count": null,
      "id": "LXPqi7iDO-CN",
      "metadata": {
        "id": "LXPqi7iDO-CN"
      },
      "outputs": [],
      "source": [
        "plotter.plot_losses()"
      ]
    },
    {
      "cell_type": "code",
      "execution_count": null,
      "id": "NiByINGpO-CN",
      "metadata": {
        "id": "NiByINGpO-CN"
      },
      "outputs": [],
      "source": [
        "plotter.plot_predictions(idx=[388, 924])"
      ]
    },
    {
      "cell_type": "code",
      "execution_count": null,
      "id": "MaqFwaulO-CN",
      "metadata": {
        "id": "MaqFwaulO-CN"
      },
      "outputs": [],
      "source": [
        "v_plotter = VideoPlotter(db, table_name=\"SmoothFool\")\n",
        "v_plotter.make_video(save_path=\"SmoothFool.mp4\")"
      ]
    }
  ],
  "metadata": {
    "colab": {
      "provenance": [],
      "include_colab_link": true
    },
    "kernelspec": {
      "display_name": "Python 3",
      "language": "python",
      "name": "python3"
    },
    "language_info": {
      "codemirror_mode": {
        "name": "ipython",
        "version": 3
      },
      "file_extension": ".py",
      "mimetype": "text/x-python",
      "name": "python",
      "nbconvert_exporter": "python",
      "pygments_lexer": "ipython3",
      "version": "3.11.9"
    }
  },
  "nbformat": 4,
  "nbformat_minor": 5
}